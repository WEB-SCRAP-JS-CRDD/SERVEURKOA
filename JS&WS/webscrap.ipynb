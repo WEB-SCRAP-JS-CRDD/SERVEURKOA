{
 "cells": [
  {
   "cell_type": "code",
   "execution_count": 3,
   "metadata": {},
   "outputs": [
    {
     "name": "stdout",
     "output_type": "stream",
     "text": [
      "Collecting webdriver-manager\n",
      "  Downloading webdriver_manager-4.0.1-py2.py3-none-any.whl.metadata (12 kB)\n",
      "Requirement already satisfied: requests in c:\\users\\mania\\appdata\\local\\programs\\python\\python311\\lib\\site-packages (from webdriver-manager) (2.28.2)\n",
      "Collecting python-dotenv (from webdriver-manager)\n",
      "  Downloading python_dotenv-1.0.1-py3-none-any.whl.metadata (23 kB)\n",
      "Requirement already satisfied: packaging in c:\\users\\mania\\appdata\\roaming\\python\\python311\\site-packages (from webdriver-manager) (23.0)\n",
      "Requirement already satisfied: charset-normalizer<4,>=2 in c:\\users\\mania\\appdata\\local\\programs\\python\\python311\\lib\\site-packages (from requests->webdriver-manager) (3.1.0)\n",
      "Requirement already satisfied: idna<4,>=2.5 in c:\\users\\mania\\appdata\\local\\programs\\python\\python311\\lib\\site-packages (from requests->webdriver-manager) (3.4)\n",
      "Requirement already satisfied: urllib3<1.27,>=1.21.1 in c:\\users\\mania\\appdata\\local\\programs\\python\\python311\\lib\\site-packages (from requests->webdriver-manager) (1.26.15)\n",
      "Requirement already satisfied: certifi>=2017.4.17 in c:\\users\\mania\\appdata\\local\\programs\\python\\python311\\lib\\site-packages (from requests->webdriver-manager) (2022.12.7)\n",
      "Downloading webdriver_manager-4.0.1-py2.py3-none-any.whl (27 kB)\n",
      "Downloading python_dotenv-1.0.1-py3-none-any.whl (19 kB)\n",
      "Installing collected packages: python-dotenv, webdriver-manager\n",
      "Successfully installed python-dotenv-1.0.1 webdriver-manager-4.0.1\n",
      "Note: you may need to restart the kernel to use updated packages.\n"
     ]
    },
    {
     "name": "stderr",
     "output_type": "stream",
     "text": [
      "  WARNING: The script dotenv.exe is installed in 'c:\\Users\\mania\\AppData\\Local\\Programs\\Python\\Python311\\Scripts' which is not on PATH.\n",
      "  Consider adding this directory to PATH or, if you prefer to suppress this warning, use --no-warn-script-location.\n",
      "\n",
      "[notice] A new release of pip is available: 23.3.2 -> 24.0\n",
      "[notice] To update, run: python.exe -m pip install --upgrade pip\n"
     ]
    }
   ],
   "source": [
    "from selenium import webdriver\n",
    "from selenium.webdriver.common.by import By\n",
    "from selenium.webdriver.chrome.service import Service\n",
    "from selenium.webdriver.support.ui import WebDriverWait\n",
    "from selenium.webdriver.support import expected_conditions as EC\n",
    "from webdriver_manager.chrome import ChromeDriverManager\n",
    "import json  # Importer le module json pour la sérialisation\n",
    "import time\n",
    "import os"
   ]
  },
  {
   "cell_type": "code",
   "execution_count": 7,
   "metadata": {},
   "outputs": [],
   "source": [
    "from selenium import webdriver\n",
    "from selenium.webdriver.chrome.service import Service\n",
    "from selenium.webdriver.common.by import By\n",
    "from selenium.webdriver.support.ui import WebDriverWait\n",
    "from selenium.webdriver.support import expected_conditions as EC\n",
    "from webdriver_manager.chrome import ChromeDriverManager\n",
    "import json\n",
    "import os\n",
    "import time\n",
    "\n",
    "url = \"https://u.gg/lol/tier-list\"\n",
    "\n",
    "# Initialisation du navigateur avec ChromeDriverManager\n",
    "service = Service(ChromeDriverManager().install())\n",
    "driver = webdriver.Chrome(service=service)\n",
    "\n",
    "driver.get(url)\n",
    "\n",
    "# Attendre que le bouton \"Consent\" soit cliquable et cliquer dessus\n",
    "wait = WebDriverWait(driver, 10)\n",
    "consent_button = wait.until(EC.element_to_be_clickable((By.XPATH, \"//p[contains(text(), 'Consent')]\")))\n",
    "consent_button.click()\n",
    "\n",
    "file_path = \"Tierlist.json\"  # Chemin du fichier JSON\n",
    "MAX_WAIT = 10  # Configuration du temps d'attente maximal pour WebDriverWait\n",
    "\n",
    "# Structure pour stocker les données\n",
    "data_export = []\n",
    "\n",
    "try:\n",
    "    wait = WebDriverWait(driver, MAX_WAIT)\n",
    "    wait.until(EC.presence_of_all_elements_located((By.CSS_SELECTOR, \"div.rt-tr-group\")))\n",
    "\n",
    "    while True:\n",
    "        # Scroll en bas de la page puis en haut\n",
    "        driver.execute_script(\"window.scrollTo(0, document.body.scrollHeight);\")\n",
    "        time.sleep(1)\n",
    "        driver.execute_script(\"window.scrollTo(0, 0);\")\n",
    "        time.sleep(1)\n",
    "\n",
    "        rows = driver.find_elements(By.CSS_SELECTOR, \"div.rt-tr-group\")\n",
    "        if not rows or (data_export and len(rows) == len(data_export)):\n",
    "            break\n",
    "\n",
    "        for i in range(len(data_export), len(rows)):\n",
    "            row = rows[i]\n",
    "            champion = row.find_element(By.CSS_SELECTOR, \"div.rt-td:nth-of-type(3)\").get_attribute(\"textContent\")\n",
    "            win_rate = row.find_element(By.CSS_SELECTOR, \"div.rt-td:nth-of-type(5)\").text.strip()\n",
    "            ban_rate = row.find_element(By.CSS_SELECTOR, \"div.rt-td:nth-of-type(7)\").text.strip()\n",
    "            matches = row.find_element(By.CSS_SELECTOR, \"div.rt-td:nth-of-type(9)\").text.strip()\n",
    "            role = row.find_element(By.CSS_SELECTOR, \"img.tier-list-role\").get_attribute(\"alt\")\n",
    "\n",
    "            # Stocker chaque champion et ses données dans un dictionnaire\n",
    "            champion_data = {\n",
    "                'Champion Name': champion,\n",
    "                'Win rate': win_rate,\n",
    "                'Ban Rate': ban_rate,\n",
    "                'Matches': matches,\n",
    "                'Role': role.upper()\n",
    "            }\n",
    "            data_export.append(champion_data)\n",
    "\n",
    "finally:\n",
    "    driver.quit()\n",
    "\n",
    "    # Enregistrement des données dans un fichier JSON\n",
    "    dos = os.path.join(os.getcwd(), 'data')  # Assurez-vous que le répertoire 'data' existe\n",
    "    if not os.path.exists(dos):\n",
    "        os.makedirs(dos)\n",
    "    chemin_complet = os.path.join(dos, 'data_export.json')\n",
    "\n",
    "    with open(chemin_complet, 'w', encoding='utf-8') as jsonfile:\n",
    "        json.dump(data_export, jsonfile, indent=4)  # Utiliser indent pour un formatage plus lisible\n"
   ]
  },
  {
   "cell_type": "code",
   "execution_count": null,
   "metadata": {},
   "outputs": [],
   "source": []
  }
 ],
 "metadata": {
  "kernelspec": {
   "display_name": "Python 3",
   "language": "python",
   "name": "python3"
  },
  "language_info": {
   "codemirror_mode": {
    "name": "ipython",
    "version": 3
   },
   "file_extension": ".py",
   "mimetype": "text/x-python",
   "name": "python",
   "nbconvert_exporter": "python",
   "pygments_lexer": "ipython3",
   "version": "3.11.2"
  }
 },
 "nbformat": 4,
 "nbformat_minor": 2
}
